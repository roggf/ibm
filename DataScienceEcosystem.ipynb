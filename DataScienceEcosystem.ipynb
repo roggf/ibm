{
 "cells": [
  {
   "cell_type": "markdown",
   "id": "fc40170c-d316-4646-b46f-173d32079b75",
   "metadata": {},
   "source": [
    "# Data Science Tools and Ecosystem"
   ]
  },
  {
   "cell_type": "markdown",
   "id": "2151a58b-e88f-4e55-9744-672684b6b312",
   "metadata": {},
   "source": [
    "In this notebook, Data Science and Ecosystems are summarized."
   ]
  },
  {
   "cell_type": "markdown",
   "id": "7d1073a6-a35e-4418-ab6e-d86011cbd555",
   "metadata": {},
   "source": [
    "**Objectives:** \n",
    "\n",
    "- List popular languages for Data Science\n",
    "- List popular libraries for Data Science\n",
    "- List popular Tools for Data Science"
   ]
  },
  {
   "cell_type": "markdown",
   "id": "2fc39fbe-e7ff-4fe0-941e-981887902dd1",
   "metadata": {},
   "source": [
    "Some of the popular languages that Data Scientists use are:\n",
    "\n",
    "1. Python\n",
    "2. R\n",
    "3. Java"
   ]
  },
  {
   "cell_type": "markdown",
   "id": "ff16a273-cffe-4212-9464-8ae0a8b84680",
   "metadata": {},
   "source": [
    "Some commonly used libraries used by Data Scientists include:\n",
    "\n",
    "1. numpy\n",
    "2. pandas\n",
    "3. tensorflow"
   ]
  },
  {
   "cell_type": "markdown",
   "id": "260d140e-c146-44fc-b855-730620688c39",
   "metadata": {},
   "source": [
    "| Data Science Tools |\n",
    "-----------------------\n",
    "| R Studio |\n",
    "| JupyterLab |\n",
    "| Visual Studio |"
   ]
  },
  {
   "cell_type": "markdown",
   "id": "514bf5ba-5137-4189-b8a9-f22835918149",
   "metadata": {},
   "source": [
    "### Below are a few examples of evaluating arithmetic expressions in Python"
   ]
  },
  {
   "cell_type": "code",
   "execution_count": 1,
   "id": "3210dc65-d630-4249-9dcf-9419245f82d7",
   "metadata": {
    "tags": []
   },
   "outputs": [
    {
     "data": {
      "text/plain": [
       "17"
      ]
     },
     "execution_count": 1,
     "metadata": {},
     "output_type": "execute_result"
    }
   ],
   "source": [
    "# This is a simple arithmetic expression to multiply then add integers\n",
    "(3*4)+5"
   ]
  },
  {
   "cell_type": "code",
   "execution_count": 2,
   "id": "873b891b-47cb-4a26-9450-58078541b1dc",
   "metadata": {
    "tags": []
   },
   "outputs": [
    {
     "data": {
      "text/plain": [
       "3.3333333333333335"
      ]
     },
     "execution_count": 2,
     "metadata": {},
     "output_type": "execute_result"
    }
   ],
   "source": [
    "# This will convert 200 Minutes to hours by dividing by 60.\n",
    "200 / 60"
   ]
  },
  {
   "cell_type": "markdown",
   "id": "a61e7717-6bbe-42f7-8685-81c718b69644",
   "metadata": {},
   "source": [
    "## Author\n",
    "Felix Rogg"
   ]
  }
 ],
 "metadata": {
  "kernelspec": {
   "display_name": "Python",
   "language": "python",
   "name": "conda-env-python-py"
  },
  "language_info": {
   "codemirror_mode": {
    "name": "ipython",
    "version": 3
   },
   "file_extension": ".py",
   "mimetype": "text/x-python",
   "name": "python",
   "nbconvert_exporter": "python",
   "pygments_lexer": "ipython3",
   "version": "3.7.12"
  }
 },
 "nbformat": 4,
 "nbformat_minor": 5
}
